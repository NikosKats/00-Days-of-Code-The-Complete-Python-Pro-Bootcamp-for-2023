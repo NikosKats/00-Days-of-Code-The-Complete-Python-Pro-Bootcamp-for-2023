{
  "nbformat": 4,
  "nbformat_minor": 0,
  "metadata": {
    "colab": {
      "provenance": [],
      "authorship_tag": "ABX9TyP1+GMSbCqu3WFfRSCmCXCX",
      "include_colab_link": true
    },
    "kernelspec": {
      "name": "python3",
      "display_name": "Python 3"
    },
    "language_info": {
      "name": "python"
    }
  },
  "cells": [
    {
      "cell_type": "markdown",
      "metadata": {
        "id": "view-in-github",
        "colab_type": "text"
      },
      "source": [
        "<a href=\"https://colab.research.google.com/github/NikosKats/100-Days-of-Code-The-Complete-Python-Pro-Bootcamp-for-2023/blob/Life-in-Weeks/Life_in_Weeks.ipynb\" target=\"_parent\"><img src=\"https://colab.research.google.com/assets/colab-badge.svg\" alt=\"Open In Colab\"/></a>"
      ]
    },
    {
      "cell_type": "code",
      "execution_count": 9,
      "metadata": {
        "colab": {
          "base_uri": "https://localhost:8080/"
        },
        "id": "DedPFuLYG1zD",
        "outputId": "e18e8152-0dfa-429b-e7b8-074bf243624e"
      },
      "outputs": [
        {
          "name": "stdout",
          "output_type": "stream",
          "text": [
            "what is your age?28\n"
          ]
        }
      ],
      "source": [
        "age = input(\"what is your age?\")"
      ]
    },
    {
      "cell_type": "code",
      "source": [
        "age_as_int = int(age)\n",
        "\n",
        "\n",
        "years_remaining = 90 - age_as_int\n",
        "days_remaining = years_remaining * 365\n",
        "weeks_remaining = years_remaining * 52\n",
        "months_remaining = years_remaining * 12\n",
        "\n",
        "message = f\"You have {days_remaining} days remaining, {weeks_remaining} weeks remaining, {months_remaining} months remaining and {years_remaining} years remaining\"\n",
        "print(message)"
      ],
      "metadata": {
        "colab": {
          "base_uri": "https://localhost:8080/"
        },
        "id": "BU91ULPjG4Qp",
        "outputId": "a88d1517-bb5b-454b-93fc-c35757bfcdad"
      },
      "execution_count": 14,
      "outputs": [
        {
          "output_type": "stream",
          "name": "stdout",
          "text": [
            "You have 22630 days remaining, 3224 weeks remaining, 744 months remaining and 62 years remaining\n"
          ]
        }
      ]
    },
    {
      "cell_type": "code",
      "source": [],
      "metadata": {
        "id": "0yST4ngLG-Vv"
      },
      "execution_count": null,
      "outputs": []
    }
  ]
}