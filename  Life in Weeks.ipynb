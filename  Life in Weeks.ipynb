{
  "nbformat": 4,
  "nbformat_minor": 0,
  "metadata": {
    "colab": {
      "provenance": [],
      "authorship_tag": "ABX9TyPpiXLfyCPn3P1cFe5zTt0L",
      "include_colab_link": true
    },
    "kernelspec": {
      "name": "python3",
      "display_name": "Python 3"
    },
    "language_info": {
      "name": "python"
    }
  },
  "cells": [
    {
      "cell_type": "markdown",
      "metadata": {
        "id": "view-in-github",
        "colab_type": "text"
      },
      "source": [
        "<a href=\"https://colab.research.google.com/github/NikosKats/100-Days-of-Code-The-Complete-Python-Pro-Bootcamp-for-2023/blob/Life-in-Weeks/%20Life%20in%20Weeks.ipynb\" target=\"_parent\"><img src=\"https://colab.research.google.com/assets/colab-badge.svg\" alt=\"Open In Colab\"/></a>"
      ]
    },
    {
      "cell_type": "code",
      "execution_count": 3,
      "metadata": {
        "colab": {
          "base_uri": "https://localhost:8080/"
        },
        "id": "DedPFuLYG1zD",
        "outputId": "e40362bc-13e5-4e40-e64d-7e228f688027"
      },
      "outputs": [
        {
          "name": "stdout",
          "output_type": "stream",
          "text": [
            "add age23\n"
          ]
        }
      ],
      "source": [
        "age = input(\"add age\")"
      ]
    },
    {
      "cell_type": "code",
      "source": [
        "print(\"hi\",age)"
      ],
      "metadata": {
        "colab": {
          "base_uri": "https://localhost:8080/"
        },
        "id": "BU91ULPjG4Qp",
        "outputId": "3cdd22b3-e1b7-4f5c-8e67-0cb733fa1b00"
      },
      "execution_count": 4,
      "outputs": [
        {
          "output_type": "stream",
          "name": "stdout",
          "text": [
            "hi 23\n"
          ]
        }
      ]
    },
    {
      "cell_type": "code",
      "source": [],
      "metadata": {
        "id": "0yST4ngLG-Vv"
      },
      "execution_count": null,
      "outputs": []
    }
  ]
}